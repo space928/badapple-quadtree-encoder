{
 "cells": [
  {
   "cell_type": "markdown",
   "id": "20ae2d6f",
   "metadata": {},
   "source": [
    "# Video Converter Notebook\n",
    "This notebook contains the code needed to convert a greyscale video to a quadtree-compressed video.\n",
    "\n",
    "The video should be split into individual frames for processing. This can be  done with ffmpeg:\n",
    "```bash\n",
    "ffmpeg -i \".\\Touhou - Bad Apple.mp4\" \"media\\badapple%04d.png\"\n",
    "```\n",
    "\n",
    "This notebook saves the compressed frames as a pickled python object (a tuple of two numpy arrays: the animation (a 4-component 2d array of rectangle definitions (value, x, y, subdivision)), and the array of frame lengths (each frame uses a variable number of rectangles to represent it)).\n",
    "\n",
    "This is inteneded to be used by the pySSV video playback demo [here](https://github.com/space928/Shaders-For-Scientific-Visualisation/tree/main/examples)."
   ]
  },
  {
   "cell_type": "code",
   "execution_count": null,
   "id": "c32a6d20",
   "metadata": {},
   "outputs": [],
   "source": [
    "%pip install multiprocess\n",
    "%pip install tqdm\n",
    "%pip install pillow\n",
    "%pip install numpy"
   ]
  },
  {
   "cell_type": "code",
   "execution_count": 8,
   "id": "initial_id",
   "metadata": {
    "ExecuteTime": {
     "end_time": "2024-01-09T13:43:05.378516300Z",
     "start_time": "2024-01-09T13:43:05.362558600Z"
    },
    "collapsed": true
   },
   "outputs": [],
   "source": [
    "# Video configuration\n",
    "min_frame = 1\n",
    "max_frame = 6569\n",
    "name_fmt = \"media/badapple{0:04d}.png\"\n",
    "files = [name_fmt.format(x) for x in range(min_frame, max_frame+1)]\n",
    "tolerance = 50  # Maximum amount of deviation (0-255) in a cell to be considered 'uniform' in colour\n",
    "max_div = 7  # Maximum number of quadtree subdivisions, this effectively controls the resolution (resolution=2**max_div)"
   ]
  },
  {
   "cell_type": "code",
   "execution_count": 12,
   "id": "90be38a68b3a34c2",
   "metadata": {
    "ExecuteTime": {
     "end_time": "2024-01-09T13:45:16.834052900Z",
     "start_time": "2024-01-09T13:43:06.266452600Z"
    },
    "collapsed": false
   },
   "outputs": [
    {
     "name": "stdout",
     "output_type": "stream",
     "text": [
      "Processing 6569 frames...\n"
     ]
    },
    {
     "name": "stderr",
     "output_type": "stream",
     "text": [
      "100%|██████████| 6569/6569 [01:09<00:00, 93.92it/s] \n"
     ]
    },
    {
     "name": "stdout",
     "output_type": "stream",
     "text": [
      "Concatenating frames...\n"
     ]
    },
    {
     "name": "stderr",
     "output_type": "stream",
     "text": [
      "100%|██████████| 6569/6569 [00:00<00:00, 59597.20it/s]\n"
     ]
    }
   ],
   "source": [
    "from PIL import Image\n",
    "import numpy as np\n",
    "import pickle as pkl\n",
    "from multiprocess import Pool\n",
    "import tqdm\n",
    "\n",
    "def print_img(data, img):\n",
    "    div = 8\n",
    "    for y in range(0, img.height, div):\n",
    "        print(' '.join('#' if data[y, x] > 128 else ' ' for x in range(0, img.width, div)))\n",
    "\n",
    "def init_pool_proc(_tolerance, _max_div):\n",
    "    # Jank to make the multiprocessing work in notebooks\n",
    "    global tolerance\n",
    "    global max_div\n",
    "    tolerance = _tolerance\n",
    "    max_div = _max_div\n",
    "\n",
    "    global Image\n",
    "    global np\n",
    "    from PIL import Image\n",
    "    import numpy as np\n",
    "\n",
    "    global check_colour\n",
    "    def check_colour(data):\n",
    "        # Check if a given cell is uniform in colour; returns true if the cell is uniform => no more subdivision needed\n",
    "        col0 = data[0]\n",
    "        return np.all(np.abs(data - col0) < tolerance)\n",
    "\n",
    "    global divide_frame\n",
    "    def divide_frame(data, x=0, y=0, it=0):\n",
    "        # Recursively subdivides the frame into quads, returning the list of rectangles which make up the frame\n",
    "        w, h = data.shape\n",
    "        if it < max_div and (it==0 or not check_colour(data)):\n",
    "            rects = []\n",
    "            rects.extend(divide_frame(data[:w//2,:h//2], x+0,    y+0, it+1))\n",
    "            rects.extend(divide_frame(data[w//2:,:h//2], x+w//2, y+0, it+1))\n",
    "            rects.extend(divide_frame(data[:w//2,h//2:], x+0,    y+h//2, it+1))\n",
    "            rects.extend(divide_frame(data[w//2:,h//2:], x+w//2, y+h//2, it+1))\n",
    "            return rects\n",
    "        return [(data[w//2,h//2], x, y, it)]\n",
    "\n",
    "init_pool_proc(tolerance, max_div)\n",
    "\n",
    "def proc_frame(img_path):\n",
    "    img = Image.open(img_path)\n",
    "    data = np.array(img.getdata())\n",
    "    # print(img.width, img.height, img.mode)\n",
    "    data = data.reshape((img.height, img.width, len(img.mode)))\n",
    "    data = data[:, :, 1]\n",
    "    # print_img(data, img)\n",
    "    encoded = np.array(divide_frame(data), dtype=np.int16)\n",
    "    # print(encoded)\n",
    "    # print(encoded.shape)\n",
    "    \n",
    "    return encoded\n",
    "\n",
    "def gen_texture():\n",
    "    print(f\"Processing {len(files)} frames...\")\n",
    "    with Pool(16, initializer=init_pool_proc, initargs=(tolerance, max_div)) as pool:\n",
    "        frames = list(tqdm.tqdm(pool.imap(proc_frame, files, chunksize=20), total=len(files)))\n",
    "\n",
    "    print(f\"Concatenating frames...\")\n",
    "    max_width = np.max([frame.shape[0] for frame in frames])  # 4**(max_div)\n",
    "    tex = np.zeros((max_width, max_frame, 4), dtype=np.int16)\n",
    "    frame_lengths = np.zeros(max_frame, dtype=np.int16)\n",
    "    \n",
    "    for i in tqdm.trange(len(files)):\n",
    "        frame = frames[i]\n",
    "        # frame = proc_frame(files[i])\n",
    "        frame_lengths[i] = frame.shape[0]\n",
    "        tex[:frame.shape[0], i, :] = frame\n",
    "    return tex, frame_lengths\n",
    "    \n",
    "# proc_frame(files[100])\n",
    "tex = gen_texture()"
   ]
  },
  {
   "cell_type": "code",
   "execution_count": 13,
   "id": "623f70d5a448fe1a",
   "metadata": {
    "ExecuteTime": {
     "end_time": "2024-01-09T13:32:33.585463600Z",
     "start_time": "2024-01-09T13:32:33.566513800Z"
    },
    "collapsed": false
   },
   "outputs": [
    {
     "name": "stdout",
     "output_type": "stream",
     "text": [
      "int16 (4603, 6569, 4)\n",
      "int16 (6569,)\n",
      "[[[  0   0   0   1]\n",
      "  [  0   0   0   1]\n",
      "  [  0   0   0   1]\n",
      "  ...\n",
      "  [  0   0   0   1]\n",
      "  [  0   0   0   1]\n",
      "  [  0   0   0   1]]\n",
      "\n",
      " [[  0 180   0   1]\n",
      "  [  0 180   0   1]\n",
      "  [  0 180   0   1]\n",
      "  ...\n",
      "  [  0 180   0   1]\n",
      "  [  0 180   0   1]\n",
      "  [  0 180   0   1]]\n",
      "\n",
      " [[  0   0 240   1]\n",
      "  [  0   0 240   1]\n",
      "  [  0   0 240   1]\n",
      "  ...\n",
      "  [  0   0 240   1]\n",
      "  [  0   0 240   1]\n",
      "  [  0   0 240   1]]\n",
      "\n",
      " ...\n",
      "\n",
      " [[  0   0   0   0]\n",
      "  [  0   0   0   0]\n",
      "  [  0   0   0   0]\n",
      "  ...\n",
      "  [  0   0   0   0]\n",
      "  [  0   0   0   0]\n",
      "  [  0   0   0   0]]\n",
      "\n",
      " [[  0   0   0   0]\n",
      "  [  0   0   0   0]\n",
      "  [  0   0   0   0]\n",
      "  ...\n",
      "  [  0   0   0   0]\n",
      "  [  0   0   0   0]\n",
      "  [  0   0   0   0]]\n",
      "\n",
      " [[  0   0   0   0]\n",
      "  [  0   0   0   0]\n",
      "  [  0   0   0   0]\n",
      "  ...\n",
      "  [  0   0   0   0]\n",
      "  [  0   0   0   0]\n",
      "  [  0   0   0   0]]]\n"
     ]
    }
   ],
   "source": [
    "anim, f_len = tex\n",
    "print(anim.dtype, anim.shape)\n",
    "print(f_len.dtype, f_len.shape)\n",
    "\n",
    "# print(anim)\n",
    "\n",
    "# Save the frames to a pickled blob\n",
    "with open(\"badapple_quad.pkl\", \"wb\") as f:\n",
    "    pkl.dump(tex, f)"
   ]
  },
  {
   "cell_type": "code",
   "execution_count": null,
   "id": "9720216c",
   "metadata": {},
   "outputs": [],
   "source": []
  }
 ],
 "metadata": {
  "kernelspec": {
   "display_name": "Python 3",
   "language": "python",
   "name": "python3"
  },
  "language_info": {
   "codemirror_mode": {
    "name": "ipython",
    "version": 3
   },
   "file_extension": ".py",
   "mimetype": "text/x-python",
   "name": "python",
   "nbconvert_exporter": "python",
   "pygments_lexer": "ipython3",
   "version": "3.11.6"
  }
 },
 "nbformat": 4,
 "nbformat_minor": 5
}
